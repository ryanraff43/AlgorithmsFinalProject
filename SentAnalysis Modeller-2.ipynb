{
 "cells": [
  {
   "cell_type": "markdown",
   "metadata": {},
   "source": [
    "This code uses positive and negative tweets from the NLTK package and accomadating package functions to tokenize, clean, and build a sentiment analysis model from sample tweets. Afterwards this model will be used to analyze samples of tweets that we pull by key word in real time (hopefully)."
   ]
  },
  {
   "cell_type": "code",
   "execution_count": 3,
   "metadata": {},
   "outputs": [],
   "source": [
    "import nltk\n",
    "#nltk.download()\n",
    "#nltk.download('punkt')\n",
    "#nltk.download('wordnet')\n",
    "#nltk.download('averaged_perceptron_tagger')\n",
    "#nltk.download('stopwords')\n",
    "from nltk.corpus import twitter_samples, stopwords\n",
    "from nltk.tag import pos_tag\n",
    "from nltk.tokenize import word_tokenize\n",
    "from nltk.stem.wordnet import WordNetLemmatizer\n",
    "import re, string, random\n",
    "#from nltk import FreqDist, classify, NaiveBayesClassifier "
   ]
  },
  {
   "cell_type": "code",
   "execution_count": 4,
   "metadata": {},
   "outputs": [],
   "source": [
    "positive_tweets = twitter_samples.strings('positive_tweets.json')\n",
    "negative_tweets = twitter_samples.strings('negative_tweets.json')\n",
    "text = twitter_samples.strings('tweets.20150430-223406.json')"
   ]
  },
  {
   "cell_type": "code",
   "execution_count": 5,
   "metadata": {},
   "outputs": [
    {
     "name": "stdout",
     "output_type": "stream",
     "text": [
      "#FollowFriday @France_Inte @PKuchly57 @Milipol_Paris for being top engaged members in my community this week :)\n"
     ]
    }
   ],
   "source": [
    "print(positive_tweets[0]) #just to show what is being stored in positive/negative/text"
   ]
  },
  {
   "cell_type": "code",
   "execution_count": 6,
   "metadata": {},
   "outputs": [
    {
     "name": "stdout",
     "output_type": "stream",
     "text": [
      "RT @KirkKus: Indirect cost of the UK being in the EU is estimated to be costing Britain £170 billion per year! #BetterOffOut #UKIP\n"
     ]
    }
   ],
   "source": [
    "print(text[0])"
   ]
  },
  {
   "cell_type": "code",
   "execution_count": 94,
   "metadata": {},
   "outputs": [],
   "source": [
    "#Removes hyperlinks and other special symbols then groups elements of tokenized words together using lemmatization \n",
    "def cleanNoise(tokenized, stopWords = ()):\n",
    "    cleaned = []\n",
    "    for ele, mark in pos_tag(tokenized):\n",
    "        ele = re.sub('http[s]?://(?:[a-zA-Z]|[0-9]|[$-_@.&+#]|[!*\\(\\),]|'\\\n",
    "                       '(?:%[0-9a-fA-F][0-9a-fA-F]))+','', ele)\n",
    "        ele = re.sub(\"(@[A-Za-z0-9_]+)\",\"\", ele)\n",
    "        if mark.startswith(\"NN\"):\n",
    "            grp = 'n'\n",
    "        elif mark.startswith('VB'):\n",
    "            grp = 'v'\n",
    "        else:\n",
    "            grp = 'a'\n",
    "            \n",
    "         #lemmatizes  \n",
    "        ele = WordNetLemmatizer().lemmatize(ele,grp)\n",
    "        \n",
    "        #Checks to make sure ele is not empty, not a repeat, and not punctuation\n",
    "        if len(ele)>0:\n",
    "            if ele not in string.punctuation:\n",
    "                if ele.lower() not in cleaned:\n",
    "                    cleaned.append(ele.lower())\n",
    "    return cleaned\n",
    "\n",
    "\n",
    "def finalClean(tweets):\n",
    "    cleanedTweets = []\n",
    "    for x in tweets: \n",
    "        clean = cleanNoise(word_tokenize(x), stopWords)\n",
    "        cleanedTweets.append(clean)\n",
    "\n",
    "    stop_words = get_stop_words('en')\n",
    "    remove = ['rt', 's', '\\'s', '\\'\\'','\\'','http', 'of', 'with', 'be', 'much', 'their', 'the', 'boston', 'college', 'bostoncollege', 'bc']\n",
    "    i = 0\n",
    "    while i<3:\n",
    "        for line in cleanedTweets:\n",
    "            for each in line: \n",
    "                if each in stop_words:\n",
    "                    line.remove(each)\n",
    "                elif each in remove:\n",
    "                    line.remove(each)\n",
    "                elif each.startswith('//'):\n",
    "                    line.remove(each)\n",
    "        i= i+1\n",
    "        \n",
    "    return cleanedTweets   "
   ]
  },
  {
   "cell_type": "code",
   "execution_count": 98,
   "metadata": {},
   "outputs": [
    {
     "name": "stdout",
     "output_type": "stream",
     "text": [
      "['#FollowFriday', '@France_Inte', '@PKuchly57', '@Milipol_Paris', 'for', 'being', 'top', 'engaged', 'members', 'in', 'my', 'community', 'this', 'week', ':)']\n",
      "['#followfriday', 'for', 'be', 'top', 'engage', 'member', 'in', 'my', 'community', 'this', 'week', ':)']\n"
     ]
    }
   ],
   "source": [
    "stopWords = stopwords.words('english')\n",
    "test = twitter_samples.tokenized('positive_tweets.json')[0]\n",
    "print(test)\n",
    "print(cleanNoise(test,stopWords))"
   ]
  },
  {
   "cell_type": "code",
   "execution_count": 9,
   "metadata": {},
   "outputs": [],
   "source": [
    "def modelIn(cleanInput):\n",
    "    for x in cleanInput:\n",
    "        yield dict([y, True] for y in x)"
   ]
  },
  {
   "cell_type": "code",
   "execution_count": 10,
   "metadata": {},
   "outputs": [],
   "source": [
    "def modelMaker():\n",
    "    posTweets = twitter_samples.strings('positive_tweets.json')\n",
    "    negTweets = twitter_samples.strings('negative_tweets.json')\n",
    "    text = twitter_samples.strings('tweets.20150430-223406.json')\n",
    "    stopWords = stopwords.words('english')\n",
    "    \n",
    "    posTokens = twitter_samples.tokenized('positive_tweets.json')\n",
    "    negTokens = twitter_samples.tokenized('negative_tweets.json')\n",
    "    posCleanTokens = []\n",
    "    negCleanTokens = []\n",
    "    \n",
    "    for x in posTokens:\n",
    "        clean = cleanNoise(x,stopWords)\n",
    "        posCleanTokens.append(clean)\n",
    "    for x in negTokens:\n",
    "        clean = cleanNoise(x,stopWords)\n",
    "        negCleanTokens.append(x)\n",
    "        \n",
    "    #posTrue = {}\n",
    "    #negTrue = {}\n",
    "    #for x in posCleanTokens:\n",
    "     #   posTrue.append([x, True])\n",
    "    #for x in negCleanTokens:\n",
    "     #   negTrue.append([x,True])\n",
    "    posTrue = modelIn(posCleanTokens)\n",
    "    negTrue = modelIn(negCleanTokens)\n",
    "    \n",
    "    posData = []\n",
    "    negData = []\n",
    "    \n",
    "    for x in posTrue:\n",
    "        posData.append((x, \"Positive\"))\n",
    "    for x in negTrue:\n",
    "        negData.append((x,\"Negative\"))\n",
    "    \n",
    "    posNegData = posData + negData\n",
    "    \n",
    "    #print(posNegData[:5])\n",
    "    random.shuffle(posNegData)\n",
    "\n",
    "    train_data = posNegData[:7000]\n",
    "    test_data = posNegData[7000:]\n",
    "    \n",
    "    #right now the model uses Naive bayes but if we are going to do collapsed gibbs we will replace \n",
    "    #This part and we will also probably have to reformat the input\n",
    "    classifier = nltk.NaiveBayesClassifier.train(train_data)\n",
    "    return(classifier)\n",
    "    "
   ]
  },
  {
   "cell_type": "code",
   "execution_count": 11,
   "metadata": {},
   "outputs": [
    {
     "data": {
      "text/plain": [
       "{'be': True, 'good': True, 'saw': True}"
      ]
     },
     "execution_count": 11,
     "metadata": {},
     "output_type": "execute_result"
    }
   ],
   "source": [
    "words = ['be','good','saw']\n",
    "dict([x,True] for x in words)"
   ]
  },
  {
   "cell_type": "code",
   "execution_count": 12,
   "metadata": {},
   "outputs": [],
   "source": [
    "model = modelMaker()"
   ]
  },
  {
   "cell_type": "code",
   "execution_count": 13,
   "metadata": {},
   "outputs": [
    {
     "name": "stdout",
     "output_type": "stream",
     "text": [
      "I love sunshine and rainbows Positive\n"
     ]
    }
   ],
   "source": [
    "custom_tweet = \"I love sunshine and rainbows\"\n",
    "custom_tokens = cleanNoise(word_tokenize(custom_tweet))\n",
    "print(custom_tweet, model.classify(dict([token, True] for token in custom_tokens)))"
   ]
  },
  {
   "cell_type": "code",
   "execution_count": 14,
   "metadata": {},
   "outputs": [],
   "source": []
  },
  {
   "cell_type": "code",
   "execution_count": null,
   "metadata": {},
   "outputs": [],
   "source": []
  },
  {
   "cell_type": "code",
   "execution_count": null,
   "metadata": {},
   "outputs": [],
   "source": [
    "##LDA Twitter Portion"
   ]
  },
  {
   "cell_type": "code",
   "execution_count": 38,
   "metadata": {},
   "outputs": [],
   "source": [
    "import pandas as pd\n",
    "import tweepy\n",
    "from textblob import TextBlob\n",
    "from gensim import corpora, models\n",
    "import gensim\n",
    "from stop_words import get_stop_words"
   ]
  },
  {
   "cell_type": "code",
   "execution_count": 39,
   "metadata": {},
   "outputs": [],
   "source": [
    "auth = tweepy.OAuthHandler('9dQrv1fgVjfRTw4x1vu9Ld1A9', 'ONppfYqFHhqqNaMMWFploNjWCOdXuiOPVwhaiQlH5a6cx7N8Hs')\n",
    "auth.set_access_token('1381356481161781251-TuZA3s3iF8qHHYI5ikIMlVmRo4grTm', 'u3QMibznnpzi3ikbR6VDssnqc15TCq5f8gyvofPbtExQ7')\n",
    "api = tweepy.API(auth)"
   ]
  },
  {
   "cell_type": "code",
   "execution_count": 40,
   "metadata": {},
   "outputs": [],
   "source": [
    "def get_tweets(hashtags, date, numtweets):\n",
    "\n",
    "    tagged_tweets = tweepy.Cursor(api.search, q=hashtags, lang=\"en\",since=date, tweet_mode=\"extended\").items(numtweets)\n",
    "\n",
    "    tweets_df = pd.DataFrame(columns=('Date and Time', 'id', 'source', 'Geo', 'Place', 'Retweets', 'tweet', 'Sentiment Polarity'))\n",
    "    list_tweets = []\n",
    "    i = 1\n",
    "    for tweet in tagged_tweets:\n",
    "\n",
    "        list_tweets.append(tweet.full_text)\n",
    "        \n",
    "        tweets_df.at[i, 'id'] = tweet.id\n",
    "        tweets_df.at[i, 'source'] = tweet.source\n",
    "        tweets_df.at[i, 'tweet'] = tweet.full_text\n",
    "        tweets_df.at[i, 'Geo'] = tweet.geo\n",
    "        tweets_df.at[i, 'Place'] = tweet.place\n",
    "        tweets_df.at[i, 'Favorites'] = tweet.favorite_count\n",
    "        tweets_df.at[i, 'Retweets'] = tweet.retweet_count\n",
    "        tweets_df.at[i, 'Date and Time'] = tweet.created_at\n",
    "        analysis = TextBlob(tweet.full_text)\n",
    "        tweets_df.at[i, 'Sentiment Polarity'] = analysis.sentiment.polarity\n",
    "        i = i + 1\n",
    "\n",
    "    tweets_df.to_csv(hashtags+'tweets.csv', encoding='utf-8')\n",
    "    #print(tweets_df.head())\n",
    "    #print(list_tweets[0])\n",
    "    return (list_tweets)\n",
    "\n"
   ]
  },
  {
   "cell_type": "code",
   "execution_count": 42,
   "metadata": {},
   "outputs": [],
   "source": [
    "tweets = get_tweets('bostoncollege', '2020-04-01', 200)"
   ]
  },
  {
   "cell_type": "code",
   "execution_count": 43,
   "metadata": {},
   "outputs": [
    {
     "name": "stdout",
     "output_type": "stream",
     "text": [
      "190 10\n"
     ]
    }
   ],
   "source": [
    "pos = 0\n",
    "neg = 0\n",
    "for x in tweets:\n",
    "    custom_tokens = cleanNoise(word_tokenize(x))\n",
    "    res = model.classify(dict([token, True] for token in custom_tokens))\n",
    "    if res == 'Positive':\n",
    "        pos+=1\n",
    "    else:\n",
    "        neg +=1\n",
    "print(pos,neg)"
   ]
  },
  {
   "cell_type": "code",
   "execution_count": 99,
   "metadata": {},
   "outputs": [
    {
     "name": "stdout",
     "output_type": "stream",
     "text": [
      "@SJPREP @BostonCollege @SJPrep_College Congratulations! #JesuitEducated\n",
      "['sjprep', 'bostoncollege', 'sjprep_college', 'congratulations', 'jesuiteducated'] Positive\n"
     ]
    }
   ],
   "source": [
    "testTweet = tweets[0]\n",
    "print(testTweet)\n",
    "custom_tokens = cleanNoise(word_tokenize(testTweet))\n",
    "print(custom_tokens, model.classify(dict([token, True] for token in custom_tokens)))"
   ]
  },
  {
   "cell_type": "code",
   "execution_count": 100,
   "metadata": {},
   "outputs": [
    {
     "name": "stdout",
     "output_type": "stream",
     "text": [
      "[(0, '0.015*\"new\" + 0.012*\"acc\" + 0.012*\"season\" + 0.012*\"series\" + 0.012*\"secure\" + 0.012*\"split\" + 0.012*\"saturday\" + 0.012*\"doubleheader\" + 0.012*\"sixth\" + 0.012*\"win\"'), (1, '0.013*\"’\" + 0.013*\"2\" + 0.013*\"plan\" + 0.013*\"guest\" + 0.013*\"gr…\" + 0.013*\"allow\" + 0.013*\"invite\" + 0.013*\"commencement\" + 0.013*\"call\" + 0.013*\"remain\"'), (2, '0.018*\"work\" + 0.017*\"congratulations\" + 0.014*\"student\" + 0.011*\"university\" + 0.011*\"team\" + 0.011*\"connell\" + 0.011*\"unccharlotte\" + 0.011*\"center\" + 0.011*\"margot\" + 0.010*\"recreation\"'), (3, '0.023*\"acc\" + 0.020*\"another\" + 0.020*\"tournament\" + 0.020*\"pitt_base\" + 0.020*\"win\" + 0.020*\"mitch\" + 0.020*\"myers\" + 0.020*\"throw\" + 0.020*\"second-ever\" + 0.020*\"bid\"'), (4, '0.032*\"draft\" + 0.029*\"bulletinbc\" + 0.029*\"class\" + 0.026*\"eagles\" + 0.026*\"see\" + 0.026*\"huge\" + 0.026*\"2022\" + 0.026*\"preview\" + 0.026*\"multiple\" + 0.026*\"nfl\"'), (5, '0.021*\"eagle\" + 0.021*\"linebacker\" + 0.017*\"week\" + 0.017*\"transfer\" + 0.017*\"portal\" + 0.017*\"second\" + 0.017*\"hit\" + 0.013*\"bulletinbc\" + 0.009*\"bcalumni\" + 0.009*\"see\"'), (6, '0.011*\"make\" + 0.010*\"amp\" + 0.009*\"news\" + 0.007*\"get\" + 0.007*\"’\" + 0.007*\"year\" + 0.007*\"good\" + 0.007*\"``\" + 0.007*\"us\" + 0.007*\"speaker\"'), (7, '0.015*\"first\" + 0.012*\"make\" + 0.012*\"maryland\" + 0.012*\"offer\" + 0.009*\"’\" + 0.009*\"top\" + 0.009*\"premium\" + 0.009*\"special\" + 0.009*\"now\" + 0.009*\"...\"'), (8, '0.027*\"bostonsports\" + 0.027*\"forboston\" + 0.027*\"bostonathletemagazine\" + 0.026*\"bceagles\" + 0.025*\"bostonathletes\" + 0.025*\"bostoncollegeathletics\" + 0.019*\"start\" + 0.015*\"baseball\" + 0.015*\"today\" + 0.013*\"collegebaseball\"'), (9, '0.028*\"decision\" + 0.025*\"saintviatorhs\" + 0.021*\"day\" + 0.019*\"sthubertknights\" + 0.019*\"stnorbert\" + 0.019*\"slu_official\" + 0.017*\"us\" + 0.017*\"join\" + 0.017*\"alumni\" + 0.017*\"attend\"')]\n"
     ]
    }
   ],
   "source": [
    "##Training LDA on Tweets to get Topics\n",
    "\n",
    "cleanedTweets = finalClean(tweets)\n",
    "dictionary = corpora.Dictionary(cleanedTweets)\n",
    "corpus = [dictionary.doc2bow(text) for text in cleanedTweets]\n",
    "ldamodel = gensim.models.ldamodel.LdaModel(corpus, num_topics = 10, id2word = dictionary, passes=100)\n",
    "\n",
    "print(ldamodel.print_topics())"
   ]
  },
  {
   "cell_type": "code",
   "execution_count": 101,
   "metadata": {},
   "outputs": [
    {
     "name": "stdout",
     "output_type": "stream",
     "text": [
      "['go', 'juco', 'route', 'grab', 'late', 'commitment', 'point', 'guard', 'jaeden', 'zackery', 'chipola', 'jaedenzackery', 'details']\n",
      "[(0, 0.025011051), (1, 0.025013141), (2, 0.02500295), (3, 0.20823243), (4, 0.34171727), (5, 0.025006436), (6, 0.02500295), (7, 0.27500388), (8, 0.025006892), (9, 0.02500295)]\n"
     ]
    }
   ],
   "source": [
    "##Get new tweets, get topic probability distribution\n",
    "tweets_new = get_tweets('bostoncollege', '2020-04-01', 200)\n",
    "cleanedTweets2 = finalClean(tweets_new)\n",
    "dictionary2 = corpora.Dictionary(cleanedTweets)\n",
    "corpus2 = [dictionary.doc2bow(text) for text in cleanedTweets2]\n",
    "\n",
    "newTweet = corpus2[0]\n",
    "print(cleanedTweets2[0])\n",
    "vector = ldamodel[newTweet]\n",
    "print(vector)"
   ]
  }
 ],
 "metadata": {
  "kernelspec": {
   "display_name": "Python 3",
   "language": "python",
   "name": "python3"
  },
  "language_info": {
   "codemirror_mode": {
    "name": "ipython",
    "version": 3
   },
   "file_extension": ".py",
   "mimetype": "text/x-python",
   "name": "python",
   "nbconvert_exporter": "python",
   "pygments_lexer": "ipython3",
   "version": "3.7.9"
  }
 },
 "nbformat": 4,
 "nbformat_minor": 4
}
