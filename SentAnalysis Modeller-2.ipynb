{
 "cells": [
  {
   "cell_type": "markdown",
   "metadata": {},
   "source": [
    "This code uses positive and negative tweets from the NLTK package and accomadating package functions to tokenize, clean, and build a sentiment analysis model from sample tweets. Afterwards this model will be used to analyze samples of tweets that we pull by key word in real time (hopefully)."
   ]
  },
  {
   "cell_type": "code",
   "execution_count": 2,
   "metadata": {},
   "outputs": [],
   "source": [
    "import nltk\n",
    "#nltk.download()\n",
    "#nltk.download('punkt')\n",
    "#nltk.download('wordnet')\n",
    "#nltk.download('averaged_perceptron_tagger')\n",
    "#nltk.download('stopwords')\n",
    "from nltk.corpus import twitter_samples, stopwords\n",
    "from nltk.tag import pos_tag\n",
    "from nltk.tokenize import word_tokenize\n",
    "from nltk.stem.wordnet import WordNetLemmatizer\n",
    "import re, string, random\n",
    "#from nltk import FreqDist, classify, NaiveBayesClassifier "
   ]
  },
  {
   "cell_type": "code",
   "execution_count": 3,
   "metadata": {},
   "outputs": [],
   "source": [
    "positive_tweets = twitter_samples.strings('positive_tweets.json')\n",
    "negative_tweets = twitter_samples.strings('negative_tweets.json')\n",
    "text = twitter_samples.strings('tweets.20150430-223406.json')"
   ]
  },
  {
   "cell_type": "code",
   "execution_count": 4,
   "metadata": {},
   "outputs": [
    {
     "name": "stdout",
     "output_type": "stream",
     "text": [
      "#FollowFriday @France_Inte @PKuchly57 @Milipol_Paris for being top engaged members in my community this week :)\n"
     ]
    }
   ],
   "source": [
    "print(positive_tweets[0]) #just to show what is being stored in positive/negative/text"
   ]
  },
  {
   "cell_type": "code",
   "execution_count": 5,
   "metadata": {},
   "outputs": [
    {
     "name": "stdout",
     "output_type": "stream",
     "text": [
      "RT @KirkKus: Indirect cost of the UK being in the EU is estimated to be costing Britain £170 billion per year! #BetterOffOut #UKIP\n"
     ]
    }
   ],
   "source": [
    "print(text[0])"
   ]
  },
  {
   "cell_type": "code",
   "execution_count": 6,
   "metadata": {},
   "outputs": [],
   "source": [
    "#Removes hyperlinks and other special symbols then groups elements of tokenized words together using lemmatization \n",
    "def cleanNoise(tokenized, stopWords = ()):\n",
    "    cleaned = []\n",
    "    for ele, mark in pos_tag(tokenized):\n",
    "        ele = re.sub('http[s]?://(?:[a-zA-Z]|[0-9]|[$-_@.&+#]|[!*\\(\\),]|'\\\n",
    "                       '(?:%[0-9a-fA-F][0-9a-fA-F]))+','', ele)\n",
    "        ele = re.sub(\"(@[A-Za-z0-9_]+)\",\"\", ele)\n",
    "        if mark.startswith(\"NN\"):\n",
    "            grp = 'n'\n",
    "        elif mark.startswith('VB'):\n",
    "            grp = 'v'\n",
    "        else:\n",
    "            grp = 'a'\n",
    "            \n",
    "         #lemmatizes  \n",
    "        ele = WordNetLemmatizer().lemmatize(ele,grp)\n",
    "        \n",
    "        #Checks to make sure ele is not empty, not a repeat, and not punctuation\n",
    "        if len(ele)>0:\n",
    "            if ele not in string.punctuation:\n",
    "                if ele.lower() not in cleaned:\n",
    "                    cleaned.append(ele.lower())\n",
    "    return cleaned\n",
    "        "
   ]
  },
  {
   "cell_type": "code",
   "execution_count": 7,
   "metadata": {},
   "outputs": [
    {
     "name": "stdout",
     "output_type": "stream",
     "text": [
      "['#FollowFriday', '@France_Inte', '@PKuchly57', '@Milipol_Paris', 'for', 'being', 'top', 'engaged', 'members', 'in', 'my', 'community', 'this', 'week', ':)']\n",
      "['#followfriday', 'for', 'be', 'top', 'engage', 'member', 'in', 'my', 'community', 'this', 'week', ':)']\n"
     ]
    }
   ],
   "source": [
    "stopWords = stopwords.words('english')\n",
    "test = twitter_samples.tokenized('positive_tweets.json')[0]\n",
    "print(test)\n",
    "print(cleanNoise(test,stopWords))"
   ]
  },
  {
   "cell_type": "code",
   "execution_count": 8,
   "metadata": {},
   "outputs": [],
   "source": [
    "def modelIn(cleanInput):\n",
    "    for x in cleanInput:\n",
    "        yield dict([y, True] for y in x)"
   ]
  },
  {
   "cell_type": "code",
   "execution_count": 9,
   "metadata": {},
   "outputs": [],
   "source": [
    "def modelMaker():\n",
    "    posTweets = twitter_samples.strings('positive_tweets.json')\n",
    "    negTweets = twitter_samples.strings('negative_tweets.json')\n",
    "    text = twitter_samples.strings('tweets.20150430-223406.json')\n",
    "    stopWords = stopwords.words('english')\n",
    "    \n",
    "    posTokens = twitter_samples.tokenized('positive_tweets.json')\n",
    "    negTokens = twitter_samples.tokenized('negative_tweets.json')\n",
    "    posCleanTokens = []\n",
    "    negCleanTokens = []\n",
    "    \n",
    "    for x in posTokens:\n",
    "        clean = cleanNoise(x,stopWords)\n",
    "        posCleanTokens.append(clean)\n",
    "    for x in negTokens:\n",
    "        clean = cleanNoise(x,stopWords)\n",
    "        negCleanTokens.append(x)\n",
    "        \n",
    "    #posTrue = {}\n",
    "    #negTrue = {}\n",
    "    #for x in posCleanTokens:\n",
    "     #   posTrue.append([x, True])\n",
    "    #for x in negCleanTokens:\n",
    "     #   negTrue.append([x,True])\n",
    "    posTrue = modelIn(posCleanTokens)\n",
    "    negTrue = modelIn(negCleanTokens)\n",
    "    \n",
    "    posData = []\n",
    "    negData = []\n",
    "    \n",
    "    for x in posTrue:\n",
    "        posData.append((x, \"Positive\"))\n",
    "    for x in negTrue:\n",
    "        negData.append((x,\"Negative\"))\n",
    "    \n",
    "    posNegData = posData + negData\n",
    "    \n",
    "    #print(posNegData[:5])\n",
    "    random.shuffle(posNegData)\n",
    "\n",
    "    train_data = posNegData[:7000]\n",
    "    test_data = posNegData[7000:]\n",
    "    \n",
    "    #right now the model uses Naive bayes but if we are going to do collapsed gibbs we will replace \n",
    "    #This part and we will also probably have to reformat the input\n",
    "    classifier = nltk.NaiveBayesClassifier.train(train_data)\n",
    "    return(classifier)\n",
    "    "
   ]
  },
  {
   "cell_type": "code",
   "execution_count": 10,
   "metadata": {},
   "outputs": [
    {
     "data": {
      "text/plain": [
       "{'be': True, 'good': True, 'saw': True}"
      ]
     },
     "execution_count": 10,
     "metadata": {},
     "output_type": "execute_result"
    }
   ],
   "source": [
    "words = ['be','good','saw']\n",
    "dict([x,True] for x in words)"
   ]
  },
  {
   "cell_type": "code",
   "execution_count": 11,
   "metadata": {},
   "outputs": [],
   "source": [
    "model = modelMaker()"
   ]
  },
  {
   "cell_type": "code",
   "execution_count": 12,
   "metadata": {},
   "outputs": [
    {
     "name": "stdout",
     "output_type": "stream",
     "text": [
      "I love sunshine and rainbows Positive\n"
     ]
    }
   ],
   "source": [
    "custom_tweet = \"I love sunshine and rainbows\"\n",
    "custom_tokens = cleanNoise(word_tokenize(custom_tweet))\n",
    "print(custom_tweet, model.classify(dict([token, True] for token in custom_tokens)))"
   ]
  },
  {
   "cell_type": "code",
   "execution_count": 13,
   "metadata": {},
   "outputs": [],
   "source": [
    "###Using twitter examples"
   ]
  },
  {
   "cell_type": "code",
   "execution_count": null,
   "metadata": {},
   "outputs": [],
   "source": []
  },
  {
   "cell_type": "code",
   "execution_count": 14,
   "metadata": {},
   "outputs": [],
   "source": [
    "import pandas as pd\n",
    "import tweepy\n",
    "from textblob import TextBlob\n",
    "from gensim import corpora, models\n",
    "import gensim"
   ]
  },
  {
   "cell_type": "code",
   "execution_count": 15,
   "metadata": {},
   "outputs": [],
   "source": [
    "auth = tweepy.OAuthHandler('9dQrv1fgVjfRTw4x1vu9Ld1A9', 'ONppfYqFHhqqNaMMWFploNjWCOdXuiOPVwhaiQlH5a6cx7N8Hs')\n",
    "auth.set_access_token('1381356481161781251-TuZA3s3iF8qHHYI5ikIMlVmRo4grTm', 'u3QMibznnpzi3ikbR6VDssnqc15TCq5f8gyvofPbtExQ7')\n",
    "api = tweepy.API(auth)"
   ]
  },
  {
   "cell_type": "code",
   "execution_count": 16,
   "metadata": {},
   "outputs": [],
   "source": [
    "def get_tweets(hashtags, date, numtweets):\n",
    "\n",
    "    tagged_tweets = tweepy.Cursor(api.search, q=hashtags, lang=\"en\",since=date, tweet_mode=\"extended\").items(numtweets)\n",
    "\n",
    "    tweets_df = pd.DataFrame(columns=('Date and Time', 'id', 'source', 'Geo', 'Place', 'Retweets', 'tweet', 'Sentiment Polarity'))\n",
    "    list_tweets = []\n",
    "    i = 1\n",
    "    for tweet in tagged_tweets:\n",
    "\n",
    "        list_tweets.append(tweet.full_text)\n",
    "        \n",
    "        tweets_df.at[i, 'id'] = tweet.id\n",
    "        tweets_df.at[i, 'source'] = tweet.source\n",
    "        tweets_df.at[i, 'tweet'] = tweet.full_text\n",
    "        tweets_df.at[i, 'Geo'] = tweet.geo\n",
    "        tweets_df.at[i, 'Place'] = tweet.place\n",
    "        tweets_df.at[i, 'Favorites'] = tweet.favorite_count\n",
    "        tweets_df.at[i, 'Retweets'] = tweet.retweet_count\n",
    "        tweets_df.at[i, 'Date and Time'] = tweet.created_at\n",
    "        analysis = TextBlob(tweet.full_text)\n",
    "        tweets_df.at[i, 'Sentiment Polarity'] = analysis.sentiment.polarity\n",
    "        i = i + 1\n",
    "\n",
    "    tweets_df.to_csv(hashtags+'tweets.csv', encoding='utf-8')\n",
    "    #print(tweets_df.head())\n",
    "    #print(list_tweets[0])\n",
    "    return (list_tweets)\n",
    "\n"
   ]
  },
  {
   "cell_type": "code",
   "execution_count": 17,
   "metadata": {},
   "outputs": [],
   "source": [
    "tweets = get_tweets('bostoncollege', '2020-04-01', 100)"
   ]
  },
  {
   "cell_type": "code",
   "execution_count": 18,
   "metadata": {},
   "outputs": [
    {
     "name": "stdout",
     "output_type": "stream",
     "text": [
      "94 6\n"
     ]
    }
   ],
   "source": [
    "pos = 0\n",
    "neg = 0\n",
    "for x in tweets:\n",
    "    custom_tokens = cleanNoise(word_tokenize(x))\n",
    "    res = model.classify(dict([token, True] for token in custom_tokens))\n",
    "    if res == 'Positive':\n",
    "        pos+=1\n",
    "    else:\n",
    "        neg +=1\n",
    "print(pos,neg)"
   ]
  },
  {
   "cell_type": "code",
   "execution_count": 19,
   "metadata": {},
   "outputs": [
    {
     "name": "stdout",
     "output_type": "stream",
     "text": [
      "BC Baseball News - @BCBirdBall's starting lineup for Game 2 with Pitt. #bcbirdball #bostonathletes #birdball #bostonsports #boston #bceagles #forboston #bostoncollege #bostoncollegeathletics #baseball #collegebaseball #bostonathletemagazine https://t.co/sOTu4xfp2c\n"
     ]
    }
   ],
   "source": [
    "testTweet = tweets[0]\n",
    "print(testTweet)"
   ]
  },
  {
   "cell_type": "code",
   "execution_count": 20,
   "metadata": {},
   "outputs": [
    {
     "name": "stdout",
     "output_type": "stream",
     "text": [
      "['bc', 'baseball', 'news', 'bcbirdball', \"'s\", 'start', 'lineup', 'for', 'game', '2', 'with', 'pitt', 'bostonathletes', 'birdball', 'bostonsports', 'boston', 'bceagles', 'forboston', 'bostoncollege', 'bostoncollegeathletics', 'collegebaseball', 'bostonathletemagazine', 'http', '//t.co/sotu4xfp2c'] Positive\n"
     ]
    }
   ],
   "source": [
    "custom_tokens = cleanNoise(word_tokenize(testTweet))\n",
    "print(custom_tokens, model.classify(dict([token, True] for token in custom_tokens)))"
   ]
  },
  {
   "cell_type": "code",
   "execution_count": 33,
   "metadata": {},
   "outputs": [
    {
     "name": "stdout",
     "output_type": "stream",
     "text": [
      "[['bc', 'baseball', 'news', 'bcbirdball', \"'s\", 'start', 'lineup', 'for', 'game', '2', 'with', 'pitt', 'bostonathletes', 'birdball', 'bostonsports', 'boston', 'bceagles', 'forboston', 'bostoncollege', 'bostoncollegeathletics', 'collegebaseball', 'bostonathletemagazine', 'http', '//t.co/sotu4xfp2c'], ['bc', 'baseball', 'score', 'final', 'pitt', '4', 'bcbirdball', '3', 'bostonathletes', 'birdball', 'bostonsports', 'bceagles', 'forboston', 'boston', 'bostoncollege', 'collegebaseball', 'bostonathletemagazine', 'http', '//t.co/lfnfb9lvke'], ['rt', 'hasbcdivested', 'no', 'bostoncollege', 'remain', 'heavily', 'invest', 'in', 'the', 'destructive', 'fossil', 'fuel', 'industry', 'despite', 'pope', \"'s\", 'repeated', 'call', 't…'], ['rt', 'charitiesboston', 'bostoncollege', 'volunteer', 'load', 'baby', 'supply', 'and', 'food', 'for', 'our', 'community', 'shower', 'with', 'unitedwaymabay', 'staysafe…'], ['bc', 'softball', 'news', 'bc_softball', \"'s\", 'start', 'lineup', 'for', 'game', '2', 'of', 'today', 'with', 'notre', 'dame', 'bostonathletes', 'boston', 'bostonsports', 'bceagles', 'forboston', 'collegesoftball', 'bostoncollege', 'bostoncollegeathletics', 'bostonathletemagazine', 'http', '//t.co/p3dfmuz7a4'], ['bc', 'baseball', 'news', 'bcbirdball', \"'s\", 'start', 'lineup', 'for', 'today', 'game', 'with', 'pitt', 'bostonathletes', 'birdball', 'bceagles', 'forboston', 'bostonsports', 'collegebaseball', 'bostoncollege', 'bostoncollegeathletics', 'bostonathletemagazine', 'http', '//t.co/thwgi56amf'], ['maddiehray', 'bostoncollege', 'awesome', 'congrats'], ['rt', 'bulletinbc', '2022', 'could', 'see', 'multiple', 'eagles', 'in', 'the', 'nfl', 'draft', 'a', 'preview', 'of', 'what', 'be', 'huge', 'class', 'for', 'boston', 'college', 'http', '/…'], ['movers', 'and', 'shakers', 'robert', 'mauro', 'executive', 'director', 'of', 'the', 'irish', 'institute', 'at', 'boston', 'college', 'dublin', 'found', 'global', 'leadership', 'bostoncollege', 'http', '//t.co/x4nfq8mtrm'], ['rt', 'bulletinbc', '2022', 'could', 'see', 'multiple', 'eagles', 'in', 'the', 'nfl', 'draft', 'a', 'preview', 'of', 'what', 'be', 'huge', 'class', 'for', 'boston', 'college', 'http', '/…'], ['rt', 'bulletinbc', 'boston', 'college', 'have', 'another', 'visitor', 'come', 'the', 'week', 'of', 'june', '18-20', 'details', 'below', 'premium', 'http', '//t.co/b3ffdkyaht'], ['rt', 'bulletinbc', 'a', 'boston', 'college', 'linebacker', 'be', 'the', 'second', 'eagle', 'to', 'hit', 'transfer', 'portal', 'this', 'week', 'http', '//t.co/hqfy9g0xqk'], ['rt', 'bulletinbc', 'boston', 'college', 'outfielder', 'sal', 'frelick', 'look', 'to', 'be', 'a', 'first', 'round', 'draft', 'pick', 'in', 'july', 'but', 'what', 'mlb', 'team', 'could', 'him', 'we…'], ['rt', 'bulletinbc', '2022', 'could', 'see', 'multiple', 'eagles', 'in', 'the', 'nfl', 'draft', 'a', 'preview', 'of', 'what', 'be', 'huge', 'class', 'for', 'boston', 'college', 'http', '/…'], ['rt', 'bulletinbc', '2022', 'could', 'see', 'multiple', 'eagles', 'in', 'the', 'nfl', 'draft', 'a', 'preview', 'of', 'what', 'be', 'huge', 'class', 'for', 'boston', 'college', 'http', '/…'], ['rt', 'bulletinbc', '2022', 'could', 'see', 'multiple', 'eagles', 'in', 'the', 'nfl', 'draft', 'a', 'preview', 'of', 'what', 'be', 'huge', 'class', 'for', 'boston', 'college', 'http', '/…'], ['bostoncollege', 'volunteer', 'load', 'baby', 'supply', 'and', 'food', 'for', 'our', 'community', 'shower', 'with', 'unitedwaymabay', 'staysafe', 'healthy', 'family', 'giveback', 'http', '//t.co/bw2menavge'], ['rt', 'bulletinbc', '2022', 'could', 'see', 'multiple', 'eagles', 'in', 'the', 'nfl', 'draft', 'a', 'preview', 'of', 'what', 'be', 'huge', 'class', 'for', 'boston', 'college', 'http', '/…'], ['rt', 'bulletinbc', '2022', 'could', 'see', 'multiple', 'eagles', 'in', 'the', 'nfl', 'draft', 'a', 'preview', 'of', 'what', 'be', 'huge', 'class', 'for', 'boston', 'college', 'http', '/…'], ['2022', 'could', 'see', 'multiple', 'eagles', 'in', 'the', 'nfl', 'draft', 'a', 'preview', 'of', 'what', 'be', 'huge', 'class', 'for', 'boston', 'college', 'http', '//t.co/v9v3uuhmzi'], ['rt', 'bulletinbc', 'espn', \"'s\", '``', 'sales', 'pitch', \"''\", 'series', 'have', 'boston', 'college', 'as', 'a', 'team', 'that', 'could', 'start', 'to', 'see', 'some', 'momentum', 'under', 'new', 'head', 'coach', 'earl', 'gr…'], ['boston', 'college', 'outfielder', 'sal', 'frelick', 'look', 'to', 'be', 'a', 'first', 'round', 'draft', 'pick', 'in', 'july', 'but', 'what', 'mlb', 'team', 'could', 'him', 'we', 'at', 'the', 'most', 'current', 'mock', 'http', '//t.co/cmt22gpv7i'], ['in', 'the', 'bostonglobe', '➡️', 'hasselbeck', 'family', 'continue', 'to', 'flourish', 'on', 'heights', 'as', 'bcwlax', 'midfielder', 'annabelle', \"'24\", 'shine', 'field', 'much', 'like', 'her', 'parent', 'matt', 'and', 'sarah', 'class', 'of', '1997', 'other', 'relative', 'http', '//t.co/pmorxy3nle'], ['no', 'bostoncollege', 'remain', 'heavily', 'invest', 'in', 'the', 'destructive', 'fossil', 'fuel', 'industry', 'despite', 'pope', \"'s\", 'repeated', 'call', 'to', 'divest'], ['rt', 'pghsportsnow', 'mitch', 'myers', 'throw', 'another', 'gem', 'and', 'pitt_base', 'clinch', 'its', 'second-ever', 'acc', 'tournament', 'bid', 'with', '4-1', 'win', 'over', 'bostoncolleg…'], ['join', 'us', 'on', '5/12', 'at', '4pm', 'est', 'for', 'our', 'next', 'bostoncollege', 'cybersecurity', 'amp', 'nationalsecurity', 'graduate', 'programs', 'webinar', '“', 'cyber', 'deception', 'addressing', 'the', 'demand', 'side', 'of', '”', 'we', 'have', 'guest', 'speaker', 'from', 'fbi', 'mitrecorp', 'hsbc', 'rsvp', 'here', 'http', '//t.co/w6nnvk6mnr'], ['bostoncollege', 'thanks', 'bc', 'if', 'anyone', 'have', 'an', 'extra', 'ticket', 'to', 'the', 'undergrad', 'ceremony', 'i', '’', 'll', 'buy', 'it', 'dm', 'me', 'please'], ['rt', 'bulletinbc', 'a', 'boston', 'college', 'linebacker', 'be', 'the', 'second', 'eagle', 'to', 'hit', 'transfer', 'portal', 'this', 'week', 'http', '//t.co/hqfy9g0xqk'], ['boston', 'college', 'have', 'another', 'visitor', 'come', 'the', 'week', 'of', 'june', '18-20', 'details', 'below', 'premium', 'http', '//t.co/b3ffdkyaht'], ['rt', 'ccchsmarauders', 'jeff', 'smith', \"'15\", 're-signed', 'with', 'the', 'new', 'york', 'jets', 'last', 'month', 'way', 'to', 'go', '💛❤️🏈', 'foreveramarauder', 'http', '//t.co/h2sm…'], ['lopn_avalanche', 'repping', 'bostoncollege'], ['rt', 'pghsportsnow', 'mitch', 'myers', 'throw', 'another', 'gem', 'and', 'pitt_base', 'clinch', 'its', 'second-ever', 'acc', 'tournament', 'bid', 'with', '4-1', 'win', 'over', 'bostoncolleg…'], ['sultanalqassemi', 'barjeelart', 'themcmullen', 'bostoncollege', 'the', 'curse', 'of', 'allah', 'be', 'on', 'those', 'who', 'do', 'wrong', 'http', '//t.co/knhfjmejgp'], ['rt', 'pghsportsnow', 'mitch', 'myers', 'throw', 'another', 'gem', 'and', 'pitt_base', 'clinch', 'its', 'second-ever', 'acc', 'tournament', 'bid', 'with', '4-1', 'win', 'over', 'bostoncolleg…'], ['rt', 'pghsportsnow', 'mitch', 'myers', 'throw', 'another', 'gem', 'and', 'pitt_base', 'clinch', 'its', 'second-ever', 'acc', 'tournament', 'bid', 'with', '4-1', 'win', 'over', 'bostoncolleg…'], ['rt', 'pghsportsnow', 'mitch', 'myers', 'throw', 'another', 'gem', 'and', 'pitt_base', 'clinch', 'its', 'second-ever', 'acc', 'tournament', 'bid', 'with', '4-1', 'win', 'over', 'bostoncolleg…'], ['rt', 'pghsportsnow', 'mitch', 'myers', 'throw', 'another', 'gem', 'and', 'pitt_base', 'clinch', 'its', 'second-ever', 'acc', 'tournament', 'bid', 'with', '4-1', 'win', 'over', 'bostoncolleg…'], ['mitch', 'myers', 'throw', 'another', 'gem', 'and', 'pitt_base', 'clinch', 'its', 'second-ever', 'acc', 'tournament', 'bid', 'with', '4-1', 'win', 'over', 'bostoncollege', 'http', '//t.co/rsiln5eofe', 'mitch_myers9', '//t.co/x0pzc2fwly'], ['giving', 'this', 'mini-sermon', 'about', 'sexual', 'assault', 'awareness', 'month', 'saam', 'be', 'one', 'of', 'the', 'highlight', 'my', 'time', 'bostoncollege', 'holyrage', 'angerandjustice', 'http', '//t.co/6ynsngcnfw'], ['a', '‘', '23', 'athlete', 'be', 'very', 'excited', 'about', 'his', 'first', 'p5', 'offer', 'from', 'boston', 'college', 'read', 'why', 'the', 'eagles', 'in', 'great', 'shape', 'with', 'maryland', 'native', 'premium', 'http', '//t.co/tb5nipix5e'], ['celebrating', 'the', 'baic', 'ambassador', 'who', 'make', 'our', 'office', 'an', 'oasis', 'thank', 'you', 'gratefulisamust', 'thankyou', 'baicambassadors', 'bostoncollege', 'bc_baic', 'http', '//t.co/qsrmb1rzhv'], ['rt', 'saintviatorhs', 'join', 'us', 'in', 'congratulate', 'lily', 'izabella', 'ava', 'keely', 'and', 'mia', 'all', 'stalphonsussch', 'alumnus', 'on', 'their', 'decision', 'to', 'attend…'], ['brendan', 'doris-pierce', 'have', 'be', 'name', 'the', 'acc', 'men', \"'s\", 'fencing', 'coach', 'of', 'year', 'we', 'love', 'and', 'appreciate', 'you', 'bdp', 'bcfencing', 'bostoncollege', 'bceagles', 'leadership', 'coachoftheyear', 'champions', 'blessed', 'grateful', 'http', '//t.co/iu3zraa5zj'], ['rt', 'bulletinbc', 'espn', \"'s\", '``', 'sales', 'pitch', \"''\", 'series', 'have', 'boston', 'college', 'as', 'a', 'team', 'that', 'could', 'start', 'to', 'see', 'some', 'momentum', 'under', 'new', 'head', 'coach', 'earl', 'gr…'], ['a', 'boston', 'college', 'linebacker', 'be', 'the', 'second', 'eagle', 'to', 'hit', 'transfer', 'portal', 'this', 'week', 'http', '//t.co/hqfy9g0xqk'], ['bc', 'baseball', 'score', 'final', 'pitt', '4', 'bcbirdball', '1', 'bostonathletes', 'boston', 'collegebaseball', 'bceagles', 'forboston', 'bostoncollege', 'bostoncollegeathletics', 'bostonsports', 'bostonathletemagazine', 'http', '//t.co/gcgt8w7z2h…', '//t.co/alpni2moxa'], ['bc', 'softball', 'score', 'final', 'notre', 'dame', '1', 'bc_softball', '0', 'bostonathletes', 'boston', 'bceagles', 'forboston', 'collegesoftball', 'bostonsports', 'bostoncollege', 'bostoncollegeathletics', 'bostonathletemagazine', 'http', '//t.co/bcskhhtnra'], ['your', 'writer', 'may', 'have', 'make', 'a', 'mistake', 'the', 'new', 'guy', 'sound', 'irish', 'go', 'to', 'bostoncollege', 'boston', 'u', 'not', 'so', 'much', 'as', 'proud', 'tour', 'guide', 'i', 'can', 'tell', 'you', 'we', 'be', 'found', 'in', '1863', 'by', 'immigrant', 'and', 'now', 'own', 'campus', 'dublin', 'st', 'stephen', \"'s\", 'green', 'nbc', 'nbcblacklist', 'bcdublin', 'http', '//t.co/komdicqgyn'], ['rt', 'reineayiti', 'i', 'can', '’', 't', 'say', 'enough', 'about', 'madansarafilm', 'review', 'it', 'for', 'ms_magazine', 'speak', 'an', 'event', 'at', 'my', 'alum', 'mater', 'uofpen…'], ['rt', 'reineayiti', 'on', 'the', 'last', 'day', 'of', 'womenshistorymonth', 'we', 'be', 'host', 'a', 'screening', 'etantdupain', 'film', 'madansarayiti', 'amp', 'panel', 'discussion', 'w…'], ['nicholsschool', 'college', 'shirt', 'day', 'check', 'out', 'the', 'personalized', 't-shirt', 'i', 'be', 'give', 'by', 'lauren', 'bostoncollege', 'and', 'paige', 'bu_tweets', 'make', 'shea', 'umaine', 'awesome', 'gift', 'from', 'amazing', 'student', 'thank', 'you', 'http', '//t.co/idetuyxhfs', '//t.co/3sh8rflkjl'], ['rt', 'bcalumni', 'is', 'there', 'anyone', 'you', \"'d\", 'like', 'to', 'remember', 'for', 'nationaldayofprayer', 'today', 'the', 'bostoncollege', 'alumni', 'association', 'offer', 'comfort…'], ['rt', 'bcalumni', 'the', 'powerful', 'bostoncollege', 'alumni', 'network', 'can', 'help', 'with', 'a', 'job', 'search', 'as', 'an', 'eagle', 'you', 'know', 'value', 'of', 'hire', 'bc', 'talent', 'h…'], ['rt', 'swaddelltv', 'fightingirish', 'honor', 'their', '3', 'senior', 'katie', 'marino', 'chelsea', 'purcell', 'morgan', 'ryan', 'after', 'today', '’', 's', '1-0', 'victory', 'over', 'bosto…'], ['fightingirish', 'honor', 'their', '3', 'senior', 'katie', 'marino', 'chelsea', 'purcell', 'morgan', 'ryan', 'after', 'today', '’', 's', '1-0', 'victory', 'over', 'bostoncollege', 'http', '//t.co/ezwznrqc18'], ['rt', 'bcalumni', 'in', 'advance', 'of', 'this', 'sunday', \"'s\", 'special', 'day', '...', 'what', '’', 's', 'the', 'amazing', 'bostoncollege', 'mothersday', 'story', 'behind', 'these', 'photo', 'find', 'ou…'], ['boston', 'college', 'makes', 'top', '8', 'for', \"'22\", 'db', 'mansoor', 'delane', 'http', '//t.co/dh7igccccz'], ['rt', 'bulletinbc', 'jeff', 'hafley', 'talk', 'to', 'reporter', 'for', 'the', 'last', 'time', 'before', 'spring', 'game', 'read', 'his', 'comment', 'on', 'phil', 'jurkovec', 'jack', 'conley', '…'], ['rt', 'cannondesign', 'congratulations', 'to', 'the', 'team', 'who', 'work', 'on', 'bostoncollege', 'margot', 'connell', 'recreation', 'center', 'and', 'unccharlotte', 'university', 'r…'], ['bc', 'softball', 'news', 'bc_softball', \"'s\", 'start', 'lineup', 'for', 'today', 'game', 'with', 'notre', 'dame', 'bostonathletes', 'boston', 'collegesoftball', 'bostonsports', 'bceagles', 'forboston', 'bostoncollege', 'bostoncollegeathletics', 'bostonathletemagazine', 'http', '//t.co/ul6rpwrf32'], ['rt', 'bostoncollege', 'congratulations', 'to', 'michael', 'grinnell', 'a', '2016', 'bcssw', 'graduate', 'who', 'have', 'be', 'name', 'player', 'wellness', 'counselor', 'for', 'the', 'the…'], ['rt', 'bostoncollege', 'congratulations', 'to', 'michael', 'grinnell', 'a', '2016', 'bcssw', 'graduate', 'who', 'have', 'be', 'name', 'player', 'wellness', 'counselor', 'for', 'the', 'the…'], ['bc', 'baseball', 'news', 'bcbirdball', \"'s\", 'start', 'lineup', 'for', 'today', 'game', 'with', 'pitt', 'bostonathletes', 'boston', 'bostonsports', 'birdball', 'bceagles', 'forboston', 'collegebaseball', 'bostoncollege', 'bostoncollegeathletics', 'bostonathletemagazine', 'http', '//t.co/xaanpvnthu'], ['congratulations', 'to', 'michael', 'grinnell', 'a', '2016', 'bcssw', 'graduate', 'who', 'have', 'be', 'name', 'player', 'wellness', 'counselor', 'for', 'the', 'thenbpa', 'http', '//t.co/h7qnioaqeu', '//t.co/de7qjle2ue'], ['bostoncollege', 'that', '’', 's', 'good', 'news', 'now', 'please', 'make', 'graduation', 'plan', 'for', 'the', 'class', 'of', '2020'], ['rt', 'coachmcnamee', '🥰', 'bostoncollege', 'your', 'friend', 'become', 'family', '...', 'this', 'place', 'be', 'special', 'forboston🦅', 'togetherasone🏀'], ['bostoncollege', 'too', 'chicken', 'to', 'post', 'anything', 'about', 'class', 'of', '2020'], ['rt', 'saintviatorhs', 'join', 'us', 'in', 'congratulate', 'lily', 'izabella', 'ava', 'keely', 'and', 'mia', 'all', 'stalphonsussch', 'alumnus', 'on', 'their', 'decision', 'to', 'attend…'], ['rt', 'saintviatorhs', 'join', 'us', 'in', 'congratulate', 'lily', 'izabella', 'ava', 'keely', 'and', 'mia', 'all', 'stalphonsussch', 'alumnus', 'on', 'their', 'decision', 'to', 'attend…'], ['rt', 'saintviatorhs', 'join', 'us', 'in', 'congratulate', 'lily', 'izabella', 'ava', 'keely', 'and', 'mia', 'all', 'stalphonsussch', 'alumnus', 'on', 'their', 'decision', 'to', 'attend…'], ['join', 'us', 'in', 'congratulate', 'lily', 'izabella', 'ava', 'keely', 'and', 'mia', 'all', 'stalphonsussch', 'alumnus', 'on', 'their', 'decision', 'to', 'attend', 'depaulu', 'bostoncollege', 'creighton', 'marianuniv', 'next', 'year', 'best', 'of', 'luck', 'lions', 'leavingthelionden', 'http', '//t.co/xhqsez7rmg'], ['all', 'our', 'product', 'be', 'now', 'available', 'for', 'barbershop', 'in', 'boston', 'call', '617-922-0367', 'appointment', 'with', 'a', 'representative', 'your', 'area', 'naturalszone', 'extline', 'extoils', 'extgrow', 'medford', 'cambridge', 'arlinton', 'bostoncollege', 'harvard', 'bostonbarbershop', 'menhair', 'hairloss', 'hairgrow', 'http', '//t.co/nv09ggjw7d'], ['🥰', 'bostoncollege', 'your', 'friend', 'become', 'family', '...', 'this', 'place', 'be', 'special', 'forboston🦅', 'togetherasone🏀', 'http', '//t.co/4wm676t29a'], ['rt', 'bc_cte', 'registration', 'be', 'open', 'for', 'excellence', 'in', 'teaching', 'day', 'on', 'friday', 'may', '21', 'join', 'us', 'the', 'keynote', 'breakout', 'and', 'panel', 'presentati…'], ['seniors', 'this', 'one', \"'s\", 'for', 'you', '🎓', \"'re\", 'invite', 'to', 'a', 'send-off', 'lunch', 'with', 'some', 'of', 'your', 'favorite', 'bostoncollege', 'agape', 'latte', 'speaker', 'every', 'attendee', 'get', 'free', 'class', '2021', 'shirt', 'boxed', 'and', 'small', 'group', 'experience', 'rsvp', 'at', 'http', '//t.co/ccdub7hfqd', '//t.co/fsvy3jkatc'], ['rt', 'cannondesign', 'congratulations', 'to', 'the', 'team', 'who', 'work', 'on', 'bostoncollege', 'margot', 'connell', 'recreation', 'center', 'and', 'unccharlotte', 'university', 'r…'], ['rt', 'bc_cte', 'registration', 'be', 'open', 'for', 'excellence', 'in', 'teaching', 'day', 'on', 'friday', 'may', '21', 'join', 'us', 'the', 'keynote', 'breakout', 'and', 'panel', 'presentati…'], ['bostoncollege', 'student', 'organization', 'protest', 'delay', 'due', 'to', 'covid19', 'policy', 'http', '//t.co/kmthxu95dx'], ['bostoncollege', 'student', 'organization', 'protest', 'delay', 'due', 'to', 'covid19', 'policy', 'http', '//t.co/gnrtlkek9q'], ['bostoncollege', 'ahah', 'thanks'], ['julie', 'fitton', 'bccybersecurity', 'adjunct', 'professor', 'and', 'vp', 'of', 'digital', 'product', 'security', 'at', 'stanley', 'black', 'amp', 'decker', 'be', 'name', \"'thought\", 'leader', 'the', 'year', 'by', 'scmagazine', 'for', 'her', 'home', 'smart', 'tool', 'http', '//t.co/u9xjada2ce'], ['registration', 'be', 'open', 'for', 'excellence', 'in', 'teaching', 'day', 'on', 'friday', 'may', '21', 'join', 'us', 'the', 'keynote', 'breakout', 'and', 'panel', 'presentation', 'as', 'we', 'reflect', 'last', 'year', 'hope', 'to', 'see', 'you', 'there', 'bcteach21', 'bostoncollege'], ['alpha_sigma_nu', 'chapter', 'be', 'also', 'recognize', 'loyolaand', 'bostoncollege', 'fordhamnyc', 'rockhurstu', 'amp', 'fairfieldu', 'http', '//t.co/82llejbmmf', 'congratulations', 'to', 'all', 'jesuiteducated'], ['rt', 'bostoncollege', 'boston', 'have', 'approve', 'bc', '’', 's', 'revise', 'commencement', 'plan', 'allow', 'undergraduate', 'to', 'invite', '2', 'guest', 'baccalaureate', 'mass', 'gr…'], ['in', 'advance', 'of', 'this', 'sunday', \"'s\", 'special', 'day', '...', 'what', '’', 's', 'the', 'amazing', 'bostoncollege', 'mothersday', 'story', 'behind', 'these', 'photo', 'find', 'out', 'here', 'http', '//t.co/oikdlbufc2', 'crummeylife', '//t.co/br1zdb5bcw'], ['moolah', 'kicks', 'be', 'do', 'big', 'thing', 'in', 'the', 'woman', '’', 's', 'basketball', 'shoe', 'space', 'they', 'also', 'launch', 'today', 'go', 'check', 'them', 'out', 'http', '//t.co/cmtrv73adr'], ['baseball', 'pittsburgh', 'vs', 'boston', 'college', 'live', 'broadcast', 'click', 'here➡️', 'http', '//t.co/e46qkhuybl', '--', 'today', '3:00', 'pm', 'et', 'may', '07', '2021', 'v', 'bostoncollege', '//t.co/l1oueb40wr'], ['rt', 'burnslibrary', 'students', 'study', 'at', \"o'neill\", 'library', 'for', 'final', 'probably', 'from', 'the', 'late', '1980s', 'or', 'early', '1990s', 'good', 'luck', 'on', 'your', 'pap…'], ['congratulations', 'to', 'the', 'team', 'who', 'work', 'on', 'bostoncollege', 'margot', 'connell', 'recreation', 'center', 'and', 'unccharlotte', 'university', 'which', 'be', 'name', '2021', 'nirsalive', 'outstanding', 'sports', 'facilities', 'http', '//t.co/rolm6lsoed'], ['the', 'painting', 'of', 'week', 'be', '``', 'ayla', \"''\", 'by', 'hind', 'nasser', 'an', 'oil', 'on', 'canvas', 'complete', 'in', '1975', 'see', 'this', 'and', 'more', 'taking', 'shape', 'at', 'mcmullen', 'make', 'appointment', 'today', 'http', '//t.co/lnqdnalwvr', 'mcmullenfromhome', 'museumfromhome', 'bostoncollege', 'hindnasser', 'mymcmullen', '//t.co/jfojdftiby'], ['asn', 'be', 'please', 'to', 'announce', 'the', '2020-21', 'chapter', 'of', 'year', 'award', 'congrats', 'campionur', 'for', 'name', 'overall', 'other', 'award-winning', 'include', 'loyolaand', 'bostoncollege', 'fordhamnyc', 'rockhurstu', 'fairfieldu', 'http', '//t.co/2bjc6vdsxs', '//t.co/lqsnp2ceji'], ['rt', 'bulletinbc', 'espn', \"'s\", '``', 'sales', 'pitch', \"''\", 'series', 'have', 'boston', 'college', 'as', 'a', 'team', 'that', 'could', 'start', 'to', 'see', 'some', 'momentum', 'under', 'new', 'head', 'coach', 'earl', 'gr…'], ['top', 'young', 'cornerback', 'from', 'philadelphia', 'intrigue', 'by', 'the', 'bceagles', 'coach', 'staff', 'http', '//t.co/vzny8igudv'], ['rt', 'bulletinbc', 'espn', \"'s\", '``', 'sales', 'pitch', \"''\", 'series', 'have', 'boston', 'college', 'as', 'a', 'team', 'that', 'could', 'start', 'to', 'see', 'some', 'momentum', 'under', 'new', 'head', 'coach', 'earl', 'gr…'], ['espn', \"'s\", '``', 'sales', 'pitch', \"''\", 'series', 'have', 'boston', 'college', 'as', 'a', 'team', 'that', 'could', 'start', 'to', 'see', 'some', 'momentum', 'under', 'new', 'head', 'coach', 'earl', 'grant', 'read', 'why', 'they', 'choose', 'the', 'eagles', 'below', 'http', '//t.co/elvzu4mk4z'], ['rt', 'ccchsmarauders', 'jeff', 'smith', \"'15\", 're-signed', 'with', 'the', 'new', 'york', 'jets', 'last', 'month', 'way', 'to', 'go', '💛❤️🏈', 'foreveramarauder', 'http', '//t.co/h2sm…'], ['students', 'study', 'at', \"o'neill\", 'library', 'for', 'final', 'probably', 'from', 'the', 'late', '1980s', 'or', 'early', '1990s', 'good', 'luck', 'on', 'your', 'paper', 'and', 'exams', 'everyone', 'studydays', 'bostoncollege', 'http', '//t.co/mimlzcpitl'], ['rt', 'bostoncollege', 'thank', 'you', 'to', 'all', 'the', 'artist', 'student', 'faculty', 'and', 'staff', 'who', 'work', 'tirelessly', 'make', 'annual', 'arts', 'festival', 'celebr…'], ['rt', 'bcalumni', 'during', 'a', 'tough', 'year', 'nurse', 'shone', 'brightly', 'for', 'nationalnursesday', 'we', 'turn', 'the', 'spotlight', 'on', 'our', 'bostoncollege', 'connell', 'schoo…'], ['no', 'bostoncollege', 'remain', 'heavily', 'invest', 'in', 'the', 'destructive', 'fossil', 'fuel', 'industry', 'despite', 'pope', \"'s\", 'repeated', 'call', 'to', 'divest']]\n"
     ]
    }
   ],
   "source": [
    "cleanedTweets = []\n",
    "for x in tweets: \n",
    "    clean = cleanNoise(word_tokenize(x))\n",
    "    cleanedTweets.append(clean)\n",
    "    \n",
    "# for each in cleanedTweets:\n",
    "#     print(each)\n",
    "print(cleanedTweets)"
   ]
  },
  {
   "cell_type": "code",
   "execution_count": 31,
   "metadata": {},
   "outputs": [
    {
     "name": "stdout",
     "output_type": "stream",
     "text": [
      "[(0, '0.023*\"week\" + 0.020*\"of\" + 0.019*\"the\" + 0.019*\"http\" + 0.016*\"below\" + 0.016*\"premium\" + 0.016*\"another\" + 0.016*\"details\" + 0.016*\"//t.co/b3ffdkyaht\" + 0.016*\"visitor\"'), (1, '0.023*\"a\" + 0.020*\"as\" + 0.020*\"to\" + 0.020*\"college\" + 0.020*\"boston\" + 0.018*\"rt\" + 0.015*\"coach\" + 0.015*\"have\" + 0.015*\"\\'s\" + 0.015*\"see\"'), (2, '0.029*\"to\" + 0.023*\"rt\" + 0.022*\"bostoncollege\" + 0.022*\"http\" + 0.021*\"in\" + 0.017*\"their\" + 0.017*\"us\" + 0.017*\"join\" + 0.017*\"mia\" + 0.017*\"alumnus\"'), (3, '0.017*\"bostoncollege\" + 0.017*\"http\" + 0.017*\"our\" + 0.009*\"you\" + 0.009*\"your\" + 0.009*\"all\" + 0.009*\"an\" + 0.009*\"for\" + 0.009*\"with\" + 0.009*\"be\"'), (4, '0.032*\"rt\" + 0.023*\"and\" + 0.020*\"with\" + 0.020*\"over\" + 0.020*\"acc\" + 0.020*\"throw\" + 0.020*\"second-ever\" + 0.020*\"myers\" + 0.020*\"mitch\" + 0.020*\"pitt_base\"'), (5, '0.036*\"bostoncollege\" + 0.033*\"the\" + 0.021*\"http\" + 0.016*\"in\" + 0.015*\"be\" + 0.014*\"to\" + 0.011*\"heavily\" + 0.011*\"destructive\" + 0.011*\"fossil\" + 0.011*\"fuel\"'), (6, '0.037*\"the\" + 0.035*\"rt\" + 0.033*\"boston\" + 0.032*\"http\" + 0.030*\"college\" + 0.028*\"of\" + 0.026*\"be\" + 0.026*\"a\" + 0.023*\"bulletinbc\" + 0.022*\"class\"'), (7, '0.026*\"bostoncollege\" + 0.025*\"to\" + 0.023*\"the\" + 0.020*\"http\" + 0.019*\"for\" + 0.018*\"be\" + 0.018*\"a\" + 0.016*\"have\" + 0.016*\"and\" + 0.013*\"congratulations\"'), (8, '0.018*\"could\" + 0.018*\"boston\" + 0.018*\"college\" + 0.018*\"team\" + 0.017*\"what\" + 0.017*\"first\" + 0.017*\"draft\" + 0.017*\"mlb\" + 0.017*\"july\" + 0.017*\"look\"'), (9, '0.031*\"bostoncollege\" + 0.026*\"http\" + 0.021*\"for\" + 0.018*\"bceagles\" + 0.016*\"bostonathletemagazine\" + 0.016*\"bostonsports\" + 0.016*\"bostonathletes\" + 0.016*\"forboston\" + 0.016*\"bc\" + 0.015*\"be\"')]\n"
     ]
    }
   ],
   "source": [
    "dictionary = corpora.Dictionary(cleanedTweets)\n",
    "corpus = [dictionary.doc2bow(text) for text in cleanedTweets]\n",
    "ldamodel = gensim.models.ldamodel.LdaModel(corpus, num_topics = 10, id2word = dictionary, passes=100)\n",
    "\n",
    "print(ldamodel.print_topics())\n",
    "\n",
    "#Need to remove words that don't mean anything\n",
    "#of, the, http, a, as, to, rt, have, has, had, us, me, you, what, for"
   ]
  },
  {
   "cell_type": "code",
   "execution_count": null,
   "metadata": {},
   "outputs": [],
   "source": []
  }
 ],
 "metadata": {
  "kernelspec": {
   "display_name": "Python 3",
   "language": "python",
   "name": "python3"
  },
  "language_info": {
   "codemirror_mode": {
    "name": "ipython",
    "version": 3
   },
   "file_extension": ".py",
   "mimetype": "text/x-python",
   "name": "python",
   "nbconvert_exporter": "python",
   "pygments_lexer": "ipython3",
   "version": "3.7.9"
  }
 },
 "nbformat": 4,
 "nbformat_minor": 4
}
