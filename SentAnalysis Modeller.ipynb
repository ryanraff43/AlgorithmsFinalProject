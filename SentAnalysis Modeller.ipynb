{
 "cells": [
  {
   "cell_type": "markdown",
   "metadata": {},
   "source": [
    "This code uses positive and negative tweets from the NLTK package and accomadating package functions to tokenize, clean, and build a sentiment analysis model from sample tweets. Afterwards this model will be used to analyze samples of tweets that we pull by key word in real time (hopefully)."
   ]
  },
  {
   "cell_type": "code",
   "execution_count": 2,
   "metadata": {},
   "outputs": [],
   "source": [
    "import nltk\n",
    "#nltk.download()\n",
    "#nltk.download('punkt')\n",
    "#nltk.download('wordnet')\n",
    "#nltk.download('averaged_perceptron_tagger')\n",
    "#nltk.download('stopwords')\n",
    "\n",
    "from nltk.corpus import twitter_samples, stopwords\n",
    "from nltk.tag import pos_tag\n",
    "from nltk.tokenize import word_tokenize\n",
    "from nltk.stem.wordnet import WordNetLemmatizer\n",
    "import re, string, random\n",
    "#from nltk import FreqDist, classify, NaiveBayesClassifier "
   ]
  },
  {
   "cell_type": "code",
   "execution_count": 3,
   "metadata": {},
   "outputs": [],
   "source": [
    "\n",
    "positive_tweets = twitter_samples.strings('positive_tweets.json')\n",
    "negative_tweets = twitter_samples.strings('negative_tweets.json')\n",
    "text = twitter_samples.strings('tweets.20150430-223406.json')"
   ]
  },
  {
   "cell_type": "code",
   "execution_count": 4,
   "metadata": {},
   "outputs": [
    {
     "name": "stdout",
     "output_type": "stream",
     "text": [
      "#FollowFriday @France_Inte @PKuchly57 @Milipol_Paris for being top engaged members in my community this week :)\n"
     ]
    }
   ],
   "source": [
    "print(positive_tweets[0]) #just to show what is being stored in positive/negative/text"
   ]
  },
  {
   "cell_type": "code",
   "execution_count": 5,
   "metadata": {},
   "outputs": [
    {
     "name": "stdout",
     "output_type": "stream",
     "text": [
      "RT @KirkKus: Indirect cost of the UK being in the EU is estimated to be costing Britain £170 billion per year! #BetterOffOut #UKIP\n"
     ]
    }
   ],
   "source": [
    "print(text[0])"
   ]
  },
  {
   "cell_type": "code",
   "execution_count": 6,
   "metadata": {},
   "outputs": [],
   "source": [
    "#Removes hyperlinks and other special symbols then groups elements of tokenized words together using lemmatization \n",
    "def cleanNoise(tokenized, stopWords = ()):\n",
    "    cleaned = []\n",
    "    for ele, mark in pos_tag(tokenized):\n",
    "        ele = re.sub('http[s]?://(?:[a-zA-Z]|[0-9]|[$-_@.&+#]|[!*\\(\\),]|'\\\n",
    "                       '(?:%[0-9a-fA-F][0-9a-fA-F]))+','', ele)\n",
    "        ele = re.sub(\"(@[A-Za-z0-9_]+)\",\"\", ele)\n",
    "        if mark.startswith(\"NN\"):\n",
    "            grp = 'n'\n",
    "        elif mark.startswith('VB'):\n",
    "            grp = 'v'\n",
    "        else:\n",
    "            grp = 'a'\n",
    "            \n",
    "         #lemmatizes  \n",
    "        ele = WordNetLemmatizer().lemmatize(ele,grp)\n",
    "        \n",
    "        #Checks to make sure ele is not empty, not a repeat, and not punctuation\n",
    "        if len(ele)>0:\n",
    "            if ele not in string.punctuation:\n",
    "                if ele.lower() not in cleaned:\n",
    "                    cleaned.append(ele.lower())\n",
    "    return cleaned\n",
    "        "
   ]
  },
  {
   "cell_type": "code",
   "execution_count": 7,
   "metadata": {},
   "outputs": [
    {
     "name": "stdout",
     "output_type": "stream",
     "text": [
      "['#FollowFriday', '@France_Inte', '@PKuchly57', '@Milipol_Paris', 'for', 'being', 'top', 'engaged', 'members', 'in', 'my', 'community', 'this', 'week', ':)']\n",
      "['#followfriday', 'for', 'be', 'top', 'engage', 'member', 'in', 'my', 'community', 'this', 'week', ':)']\n"
     ]
    }
   ],
   "source": [
    "stopWords = stopwords.words('english')\n",
    "test = twitter_samples.tokenized('positive_tweets.json')[0]\n",
    "print(test)\n",
    "print(cleanNoise(test,stopWords))"
   ]
  },
  {
   "cell_type": "code",
   "execution_count": 8,
   "metadata": {},
   "outputs": [],
   "source": [
    "def modelIn(cleanInput):\n",
    "    for x in cleanInput:\n",
    "        yield dict([y, True] for y in x)"
   ]
  },
  {
   "cell_type": "code",
   "execution_count": 9,
   "metadata": {},
   "outputs": [],
   "source": [
    "def modelMaker():\n",
    "    posTweets = twitter_samples.strings('positive_tweets.json')\n",
    "    negTweets = twitter_samples.strings('negative_tweets.json')\n",
    "    text = twitter_samples.strings('tweets.20150430-223406.json')\n",
    "    stopWords = stopwords.words('english')\n",
    "    \n",
    "    posTokens = twitter_samples.tokenized('positive_tweets.json')\n",
    "    negTokens = twitter_samples.tokenized('negative_tweets.json')\n",
    "    posCleanTokens = []\n",
    "    negCleanTokens = []\n",
    "    \n",
    "    for x in posTokens:\n",
    "        clean = cleanNoise(x,stopWords)\n",
    "        posCleanTokens.append(clean)\n",
    "    for x in negTokens:\n",
    "        clean = cleanNoise(x,stopWords)\n",
    "        negCleanTokens.append(x)\n",
    "        \n",
    "    #posTrue = {}\n",
    "    #negTrue = {}\n",
    "    #for x in posCleanTokens:\n",
    "     #   posTrue.append([x, True])\n",
    "    #for x in negCleanTokens:\n",
    "     #   negTrue.append([x,True])\n",
    "    posTrue = modelIn(posCleanTokens)\n",
    "    negTrue = modelIn(negCleanTokens)\n",
    "    \n",
    "    posData = []\n",
    "    negData = []\n",
    "    \n",
    "    for x in posTrue:\n",
    "        posData.append((x, \"Positive\"))\n",
    "    for x in negTrue:\n",
    "        negData.append((x,\"Negative\"))\n",
    "    \n",
    "    posNegData = posData + negData\n",
    "    \n",
    "    #print(posNegData[:5])\n",
    "    random.shuffle(posNegData)\n",
    "\n",
    "    train_data = posNegData[:7000]\n",
    "    test_data = posNegData[7000:]\n",
    "    \n",
    "    #right now the model uses Naive bayes but if we are going to do collapsed gibbs we will replace \n",
    "    #This part and we will also probably have to reformat the input\n",
    "    classifier = nltk.NaiveBayesClassifier.train(train_data)\n",
    "    return(classifier)\n",
    "    "
   ]
  },
  {
   "cell_type": "code",
   "execution_count": 10,
   "metadata": {},
   "outputs": [
    {
     "data": {
      "text/plain": [
       "{'be': True, 'good': True, 'saw': True}"
      ]
     },
     "execution_count": 10,
     "metadata": {},
     "output_type": "execute_result"
    }
   ],
   "source": [
    "words = ['be','good','saw']\n",
    "dict([x,True] for x in words)"
   ]
  },
  {
   "cell_type": "code",
   "execution_count": 11,
   "metadata": {},
   "outputs": [],
   "source": [
    "model = modelMaker()"
   ]
  },
  {
   "cell_type": "code",
   "execution_count": 31,
   "metadata": {},
   "outputs": [
    {
     "name": "stdout",
     "output_type": "stream",
     "text": [
      "Ice is the best thing in the world Positive\n"
     ]
    }
   ],
   "source": [
    "custom_tweet = \"Ice is the best thing in the world\"\n",
    "custom_tokens = cleanNoise(word_tokenize(custom_tweet))\n",
    "print(custom_tweet, model.classify(dict([token, True] for token in custom_tokens)))"
   ]
  },
  {
   "cell_type": "code",
   "execution_count": 12,
   "metadata": {},
   "outputs": [],
   "source": [
    "###Using twitter examples"
   ]
  },
  {
   "cell_type": "code",
   "execution_count": null,
   "metadata": {},
   "outputs": [],
   "source": []
  },
  {
   "cell_type": "code",
   "execution_count": 1,
   "metadata": {},
   "outputs": [],
   "source": [
    "import pandas as pd\n",
    "import tweepy\n",
    "from textblob import TextBlob"
   ]
  },
  {
   "cell_type": "code",
   "execution_count": 19,
   "metadata": {},
   "outputs": [],
   "source": [
    "auth = tweepy.OAuthHandler()\n",
    "auth.set_access_token()\n",
    "api = tweepy.API(auth)"
   ]
  },
  {
   "cell_type": "code",
   "execution_count": 21,
   "metadata": {},
   "outputs": [],
   "source": [
    "def get_tweets(hashtags, date, numtweets):\n",
    "\n",
    "    tagged_tweets = tweepy.Cursor(api.search, q=hashtags, lang=\"en\",since=date, tweet_mode=\"extended\").items(numtweets)\n",
    "\n",
    "    tweets_df = pd.DataFrame(columns=('Date and Time', 'id', 'source', 'Geo', 'Place', 'Retweets', 'tweet', 'Sentiment Polarity'))\n",
    "    list_tweets = []\n",
    "    i = 1\n",
    "    for tweet in tagged_tweets:\n",
    "\n",
    "        list_tweets.append(tweet.full_text)\n",
    "        \n",
    "        tweets_df.at[i, 'id'] = tweet.id\n",
    "        tweets_df.at[i, 'source'] = tweet.source\n",
    "        tweets_df.at[i, 'tweet'] = tweet.full_text\n",
    "        tweets_df.at[i, 'Geo'] = tweet.geo\n",
    "        tweets_df.at[i, 'Place'] = tweet.place\n",
    "        tweets_df.at[i, 'Favorites'] = tweet.favorite_count\n",
    "        tweets_df.at[i, 'Retweets'] = tweet.retweet_count\n",
    "        tweets_df.at[i, 'Date and Time'] = tweet.created_at\n",
    "        analysis = TextBlob(tweet.full_text)\n",
    "        tweets_df.at[i, 'Sentiment Polarity'] = analysis.sentiment.polarity\n",
    "        i = i + 1\n",
    "\n",
    "    tweets_df.to_csv(hashtags+'tweets.csv', encoding='utf-8')\n",
    "    #print(tweets_df.head())\n",
    "    return(list_tweets)\n"
   ]
  },
  {
   "cell_type": "code",
   "execution_count": 22,
   "metadata": {},
   "outputs": [],
   "source": [
    "tweets = get_tweets('bostoncollege', '2020-06-01', 100)"
   ]
  },
  {
   "cell_type": "code",
   "execution_count": 23,
   "metadata": {},
   "outputs": [
    {
     "name": "stdout",
     "output_type": "stream",
     "text": [
      "91 9\n"
     ]
    }
   ],
   "source": [
    "pos = 0\n",
    "neg = 0\n",
    "for x in tweets:\n",
    "    custom_tokens = cleanNoise(word_tokenize(x))\n",
    "    res = model.classify(dict([token, True] for token in custom_tokens))\n",
    "    if res == 'Positive':\n",
    "        pos+=1\n",
    "    else:\n",
    "        neg +=1\n",
    "print(pos,neg)"
   ]
  },
  {
   "cell_type": "code",
   "execution_count": null,
   "metadata": {},
   "outputs": [],
   "source": []
  }
 ],
 "metadata": {
  "kernelspec": {
   "display_name": "Python 3",
   "language": "python",
   "name": "python3"
  },
  "language_info": {
   "codemirror_mode": {
    "name": "ipython",
    "version": 3
   },
   "file_extension": ".py",
   "mimetype": "text/x-python",
   "name": "python",
   "nbconvert_exporter": "python",
   "pygments_lexer": "ipython3",
   "version": "3.8.5"
  }
 },
 "nbformat": 4,
 "nbformat_minor": 4
}
